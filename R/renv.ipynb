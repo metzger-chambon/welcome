{
 "cells": [
  {
   "cell_type": "markdown",
   "metadata": {},
   "source": [
    "[[_TOC_]]"
   ]
  },
  {
   "cell_type": "markdown",
   "metadata": {},
   "source": [
    "\n",
    "# <a id='toc1_'></a>[Introduction](#toc0_)\n",
    "## <a id='toc1_1_'></a>[What is renv?](#toc0_)\n",
    "`renv` is a package management system for R that helps ensure reproducibility and portability of R projects. It allows you to create isolated environments for your R projects, making it easier to share and collaborate on code. The documentation is available at: https://rstudio.github.io/renv/articles/renv.html.\n",
    "\n",
    "## <a id='toc1_2_'></a>[Why should you use renv?](#toc0_)\n",
    "For different analysis you might rely on various R packages. However, managing package versions and dependencies can be challenging. Here's why `renv` is a good practice for biologists:\n",
    "\n",
    "1. Reproducibility: `renv` allows you to capture the exact versions of R packages used in your project. This ensures that your code can be reproduced in the future, even if new package versions become available.\n",
    "\n",
    "2. Collaboration: With `renv`, you can more easily share your R projects with colleagues or collaborators. They can set up the same environment using the `renv.lock` file, ensuring that everyone is working with the same package versions.\n",
    "\n",
    "3. Avoid conflicts: By using isolated environments `renv` makes it easier to avoid conflicts between different package versions, ensuring that your code runs consistently, even if you need to update a package for another analysis.\n"
   ]
  },
  {
   "cell_type": "markdown",
   "metadata": {},
   "source": [
    "# <a id='toc2_'></a>[Implementing renv in your R projects](#toc0_)\n",
    "\n",
    "## <a id='toc2_1_'></a>[Installing renv](#toc0_)\n",
    "To start using `renv`, you need to install it first. Open your R console and run the following command:\n"
   ]
  },
  {
   "cell_type": "code",
   "execution_count": null,
   "metadata": {
    "vscode": {
     "languageId": "R"
    }
   },
   "outputs": [],
   "source": [
    "install.packages(\"renv\")"
   ]
  },
  {
   "cell_type": "markdown",
   "metadata": {},
   "source": [
    "\n",
    "## <a id='toc2_2_'></a>[Working with R projects](#toc0_)\n",
    "\n",
    "Working with R Projects in RStudio is necessary to use `renv`. But it is a good practice in general as it provides a structured and efficient way to manage your R scripts, data, and other files.\n",
    "Here are some reasons why you should always be using R Projects:\n",
    "\n",
    "1. Organization: R Projects help you keep all related files in one place. This makes it easier to manage your scripts, data, and outputs, ensuring that your work is well-organized.\n",
    "\n",
    "2. Reproducibility: R Projects ensures that your working directory is set correctly every time you open the project. This helps avoid issues related to file paths and makes your analysis reproducible.\n",
    "\n",
    "3. Collaboration: R Projects make it easier to collaborate with others. By sharing the project folder, your collaborators can easily access all the necessary files and run the analysis without any issues.\n",
    "\n",
    "4. Version Control: R Projects integrate seamlessly with version control systems like Git. This allows you to track changes, revert to previous versions, and collaborate more effectively with others.\n",
    "\n",
    "5. Environment Management: R Projects allow you to manage your R environment more effectively. You can use packages like `renv` to create isolated environments for each project, ensuring that package versions and dependencies are consistent.\n",
    "\n",
    "**How to Create an R Project, you ask?**\n",
    "\n",
    "Creating an R Project in RStudio is simple:\n",
    "\n",
    "1. Open RStudio.\n",
    "2. Go to `File` > `New Project`.\n",
    "3. Choose `New Directory` or `Existing Directory` depending on your needs.\n",
    "4. Follow the prompts to set up your project.\n",
    "\n"
   ]
  },
  {
   "cell_type": "markdown",
   "metadata": {},
   "source": [
    "\n",
    "\n",
    "## <a id='toc2_3_'></a>[Initializing renv in a project](#toc0_)\n",
    "Once `renv` is installed, you can initialize it in your R project. Open your R console, navigate to your project directory, and run the following command:\n",
    "\n"
   ]
  },
  {
   "cell_type": "code",
   "execution_count": null,
   "metadata": {
    "vscode": {
     "languageId": "R"
    }
   },
   "outputs": [],
   "source": [
    "renv::init()"
   ]
  },
  {
   "cell_type": "markdown",
   "metadata": {},
   "source": [
    "\n",
    "\n",
    "This will modify the `.Rprofile` file, as well as create an `renv/` directory and a `renv.lock` file in your project, which will be used to manage your project's environment as follows:\n",
    "\n",
    "- `renv.lock`: This file captures the exact versions of packages used in your project. It ensures that the same package versions are used when the project is shared or restored.\n",
    "\n",
    "- `renv/` folder: This folder contains the isolated environment for your project. It stores the packages and their dependencies specific to your project.\n",
    "\n"
   ]
  },
  {
   "cell_type": "markdown",
   "metadata": {},
   "source": [
    "\n",
    "\n",
    "## <a id='toc2_4_'></a>[Managing packages with renv](#toc0_)\n",
    "To add packages to your project, you can use the same usual functions, e.g.:\n",
    "\n"
   ]
  },
  {
   "cell_type": "code",
   "execution_count": null,
   "metadata": {
    "vscode": {
     "languageId": "R"
    }
   },
   "outputs": [],
   "source": [
    "install.packages(\"dplyr\") \n",
    "BiocManager::install(\"DESeq2\")"
   ]
  },
  {
   "cell_type": "markdown",
   "metadata": {},
   "source": [
    "This will install the package in your project's environment only. Once you have installed the packages that you want, you can update the `renv.lock` file by running: \n"
   ]
  },
  {
   "cell_type": "code",
   "execution_count": null,
   "metadata": {
    "vscode": {
     "languageId": "R"
    }
   },
   "outputs": [],
   "source": [
    "renv::snapshot()"
   ]
  },
  {
   "cell_type": "markdown",
   "metadata": {},
   "source": [
    "\n",
    "You can run this command at any time, for example when you add or update some packages.\n",
    "\n",
    "At some point you might use one of the two following commands:\n",
    "\n",
    "- the `renv::status()` command compares the current state of the project's environment with the `renv.lock` file. It identifies any changes made to the environment, such as installing or updating packages. This helps you track the modifications made to the environment and ensures that the project remains reproducible.\n",
    "\n",
    "- the `renv::restore()` command restores the project's environment to the state captured in the `renv.lock` file. It installs the exact package versions specified in the file, ensuring that the project can be reproduced with the same environment. This is useful when you want to recreate the environment on a different system or restore it after modifications.\n"
   ]
  },
  {
   "cell_type": "markdown",
   "metadata": {},
   "source": [
    "## <a id='toc2_5_'></a>[Sharing your project with renv](#toc0_)\n",
    "\n",
    "To share your project with others, you can share the `renv.lock` file. Remember to run the `renv::snapshot()` command to capture the current versions of packages used in your project.\n",
    "\n",
    "\n",
    "## <a id='toc2_6_'></a>[Recreating a renv environment from a `renv.lock` file](#toc0_)\n",
    "\n",
    "To recreate the same environment using the `renv.lock` file, you can use the `renv::restore()` function. Here are the steps to do this:\n",
    "\n",
    "1. Navigate to a new or desired R project.\n",
    "\n",
    "2. Make sure the `renv.lock` file is located in the R project directory.\n",
    "\n",
    "3. Execute the following command to restore the environment:\n"
   ]
  },
  {
   "cell_type": "code",
   "execution_count": null,
   "metadata": {
    "vscode": {
     "languageId": "R"
    }
   },
   "outputs": [],
   "source": [
    "renv::restore()"
   ]
  },
  {
   "cell_type": "markdown",
   "metadata": {},
   "source": [
    "\n",
    "This command will read the `renv.lock` file and install the exact versions of the packages specified in the file. It will recreate the environment as it was when the `renv.lock` file was created.\n"
   ]
  },
  {
   "cell_type": "markdown",
   "metadata": {},
   "source": [
    "\n",
    "\n",
    "\n",
    "# <a id='toc3_'></a>[Conclusion](#toc0_)\n",
    "Using `renv` in your R projects as a biologist can greatly improve reproducibility, collaboration, and portability. By managing package versions and dependencies, you can ensure that your code remains consistent and can be easily shared and reproduced. Find out more about `renv` usage by reading their documentation at https://rstudio.github.io/renv/articles/renv.html.\n",
    "\n"
   ]
  }
 ],
 "metadata": {
  "language_info": {
   "name": "python"
  }
 },
 "nbformat": 4,
 "nbformat_minor": 2
}
